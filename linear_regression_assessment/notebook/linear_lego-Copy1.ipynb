{
 "cells": [
  {
   "cell_type": "markdown",
   "metadata": {},
   "source": [
    "# The Lego Collector's Dilemma  \n",
    "\n",
    "## Problem statement\n",
    "\n",
    "You are a die hard Lego enthusiast wishing to collect as many board sets as you can. But before that you wish to be able to predict the price of a new lego product before its price is revealed so that you can budget it from your revenue. Since (luckily!), you are a data scientist in the making, you wished to solve this problem yourself. This dataset contains information on lego sets scraped from lego.com. Each observation is a different lego set with various features like how many pieces in the set, rating for the set, number of reviews per set etc. Your aim is to build a linear regression model to predict the price of a set.\n",
    "\n",
    "\n",
    "## About the Dataset:\n",
    "The snapshot of the data, you will be working on :\n",
    "\n",
    "![Dataset](../images/lego_data.PNG)\n",
    "\n",
    "You can see that some of the features of `review_difficulty`, `theme_name` and `Country Name` in the data are textual in nature. Don't worry, we have made things simple for you with some behind-the-scenes data preprocessing.  We have also modified the feature of `age`. You will be learning about all these preprocessing techinques in a later concept. For now let us concentrate on getting those Lego sets in your hands soon. :) \n",
    "\n",
    "![Dataset](../images/new_le.png)\n",
    "\n",
    "\n",
    "The dataset has details of 9910 lego sets with the following 10 features\n",
    "\n",
    "|Feature|Description|\n",
    "|-----|-----|\n",
    "|age|Which age categories it belongs to|\n",
    "|list_price|price of the set (in $)|\n",
    "|num_reviews|number of reviews per set|\n",
    "|piece_count| number of pieces in that lego set|\n",
    "|play_star_rating|ratings|\n",
    "|review_difficulty|difficulty level of the set|\n",
    "|star_rating|ratings|\n",
    "|theme_name|which theme it belongs|\n",
    "|val_star_rating|ratings|\n",
    "|country|country name|\n",
    "\n",
    "\n",
    "\n",
    "\n",
    "\n",
    "\n",
    "\n",
    "\n"
   ]
  },
  {
   "cell_type": "code",
   "execution_count": null,
   "metadata": {},
   "outputs": [],
   "source": [
    "##These tasks are made out of my assumptions of that the learner is\n",
    "#completely new to jupyter and machine learning and multi-variate \n",
    "#linear regression.So the subtasks are made relatively easy."
   ]
  },
  {
   "cell_type": "markdown",
   "metadata": {},
   "source": [
    "## Task1:Understanding the dataset and corelation measure of various column fields\n"
   ]
  },
  {
   "cell_type": "code",
   "execution_count": 30,
   "metadata": {},
   "outputs": [
    {
     "data": {
      "text/plain": [
       "'/home/deb/Downloads/linear_regression/linear_regression_assessment/notebook'"
      ]
     },
     "execution_count": 30,
     "metadata": {},
     "output_type": "execute_result"
    }
   ],
   "source": [
    "pwd    #see the current directory"
   ]
  },
  {
   "cell_type": "code",
   "execution_count": 12,
   "metadata": {
    "scrolled": true
   },
   "outputs": [
    {
     "data": {
      "image/png": "[encoded data removed]",
      "text/plain": [
       "<Figure size 432x288 with 1 Axes>"
      ]
     },
     "metadata": {
      "needs_background": "light"
     },
     "output_type": "display_data"
    }
   ],
   "source": [
    "#1>importing various libraries numpy,panda,matplotlib\n",
    "#2>read csv file into jupyter notebook \n",
    "#3>convert panda matrix to numpy matrix \n",
    "#4>read about numpy matrix slicing and extract list_prices and rest of \n",
    "#  fields into two separate matrices\n",
    "#5>use matplotlib library function scatter \n",
    "\n",
    "\n",
    "#implement here\n",
    "\n",
    "\n",
    "\n",
    "\n",
    "\n",
    "\n",
    "#Solution:\n",
    "# import pandas as pd\n",
    "# import numpy as np   \n",
    "# import matplotlib.pyplot as plt\n",
    "# df=pd.read_csv(\"./data/lego_final.csv\")\n",
    "# df=df.values\n",
    "# df1=df[:,3]\n",
    "# df2=df[:,1]  #example used here is piece-count vs list_price(easy to grasp)  \n",
    "# plt.scatter(df1,df2)\n",
    "# plt.show()"
   ]
  },
  {
   "cell_type": "markdown",
   "metadata": {},
   "source": [
    "## Task2:Learning about uni-variate linear regression "
   ]
  },
  {
   "cell_type": "code",
   "execution_count": 16,
   "metadata": {},
   "outputs": [
    {
     "data": {
      "text/plain": [
       "<function matplotlib.pyplot.show(*args, **kw)>"
      ]
     },
     "execution_count": 16,
     "metadata": {},
     "output_type": "execute_result"
    },
    {
     "data": {
      "image/png": "[encoded data removed]",
      "text/plain": [
       "<Figure size 432x288 with 1 Axes>"
      ]
     },
     "metadata": {
      "needs_background": "light"
     },
     "output_type": "display_data"
    }
   ],
   "source": [
    "#1>importing various libraries numpy,panda,matplotlib\n",
    "#2>use numpy randn to generate a 10x1 array of numbers generated from gaussian dist\n",
    "#3>make a scatter plot \n",
    "\n",
    "#Solution\n",
    "\n",
    "# from sklearn.linear_model import LinearRegression\n",
    "# import matplotlib.pyplot as plt\n",
    "# import numpy as np\n",
    "# x= np.random.randn(10,1)\n",
    "# y = 2*x+3 +0.1*np.random.randn(10,1)\n",
    "# plt.scatter(x,y)\n",
    "# plt.show"
   ]
  },
  {
   "cell_type": "code",
   "execution_count": 25,
   "metadata": {},
   "outputs": [
    {
     "data": {
      "text/plain": [
       "array([[2.01476717]])"
      ]
     },
     "execution_count": 25,
     "metadata": {},
     "output_type": "execute_result"
    }
   ],
   "source": [
    "#1>use the sklearn library LinearRegression model to make the fit to data\n",
    "#2>See the parameter-1 and the parameter-0 of the data\n",
    "\n",
    "\n",
    "#Solution\n",
    "# model = LinearRegression()\n",
    "# model.fit(x,y)\n",
    "# model.coef_"
   ]
  },
  {
   "cell_type": "code",
   "execution_count": 21,
   "metadata": {},
   "outputs": [
    {
     "data": {
      "text/plain": [
       "array([2.96246307])"
      ]
     },
     "execution_count": 21,
     "metadata": {},
     "output_type": "execute_result"
    }
   ],
   "source": [
    "# model.intercept_"
   ]
  },
  {
   "cell_type": "code",
   "execution_count": 22,
   "metadata": {},
   "outputs": [
    {
     "data": {
      "text/plain": [
       "array([[43.25780649]])"
      ]
     },
     "execution_count": 22,
     "metadata": {},
     "output_type": "execute_result"
    }
   ],
   "source": [
    "# model.predict(20)"
   ]
  },
  {
   "cell_type": "code",
   "execution_count": 24,
   "metadata": {},
   "outputs": [
    {
     "data": {
      "text/plain": [
       "43"
      ]
     },
     "execution_count": 24,
     "metadata": {},
     "output_type": "execute_result"
    }
   ],
   "source": [
    "# 2*20+3"
   ]
  },
  {
   "cell_type": "markdown",
   "metadata": {},
   "source": [
    "## Task3-Implement multi-variate linear regression model using sklearn LinearRegression"
   ]
  },
  {
   "cell_type": "code",
   "execution_count": 26,
   "metadata": {},
   "outputs": [
    {
     "data": {
      "text/plain": [
       "'/home/deb/Downloads/linear_regression/linear_regression_assessment/notebook'"
      ]
     },
     "execution_count": 26,
     "metadata": {},
     "output_type": "execute_result"
    }
   ],
   "source": [
    "pwd  #check and change path "
   ]
  },
  {
   "cell_type": "code",
   "execution_count": 27,
   "metadata": {},
   "outputs": [
    {
     "data": {
      "text/plain": [
       "array([76.76994113])"
      ]
     },
     "execution_count": 27,
     "metadata": {},
     "output_type": "execute_result"
    }
   ],
   "source": [
    "#1>importing various libraries numpy,panda,matplotlib\n",
    "#2>read csv file into jupyter notebook \n",
    "#3>convert panda matrix to numpy matrix \n",
    "#4>read about numpy matrix slicing and extract list_prices and rest of \n",
    "#  fields into two separate matrices\n",
    "#5>use sklearn LinearRegression to make the fit to the multivariate-model\n",
    "\n",
    "\n",
    "\n",
    "#Solution:\n",
    "# import pandas as pd\n",
    "# import numpy as np\n",
    "# from sklearn.linear_model import LinearRegression\n",
    "# df=pd.read_csv(\"./data/lego_final.csv\")         #you must set the correct path here\n",
    "# df=df.values\n",
    "# df1=df[:,1]\n",
    "# df2=np.delete(df,1,1)\n",
    "# # df2\n",
    "# model = LinearRegression()\n",
    "# model.fit(df2,df1)\n",
    "# model.coef_               #check the predicted parameters for the various fields\n",
    "# model.intercept_          #check parameter-0\n",
    "# model.predict([[5,14,744,3.2,1,4.6,1,4.1,20]])   #see the correctness of your model\n"
   ]
  },
  {
   "cell_type": "markdown",
   "metadata": {},
   "source": [
    "## Task4-(optional) Implement the multi-variate LinearRegression model yourself "
   ]
  },
  {
   "cell_type": "code",
   "execution_count": 82,
   "metadata": {},
   "outputs": [],
   "source": [
    "#Learn about theory \n",
    "\n",
    "\n",
    "\n",
    "\n",
    "#Solution\n",
    "\n",
    "\n",
    "# #Import the libraries and data:\n",
    "# import numpy as np \n",
    "# import matplotlib.pyplot as plt\n",
    "# import pandas as pd\n",
    "# def computeCost(X,y,theta):\n",
    "#     tobesummed = np.power(((X @ theta.T)-y),2)\n",
    "#     return np.sum(tobesummed)/(2 * len(X))\n",
    "# def gradientDescent(X,y,theta,iters,alpha):\n",
    "#     cost = np.zeros(iters)\n",
    "#     for i in range(iters):\n",
    "#         theta = theta - (alpha/len(X)) * np.sum(X * (X @ theta.T - y), axis=0)\n",
    "#         cost[i] = computeCost(X, y, theta)\n",
    "    \n",
    "#     return theta,cost\n",
    "\n",
    "# #running the gd and cost function\n",
    "\n",
    "# df=pd.read_csv(\"/home/deb/Downloads/linear_regression/linear_regression_assessment/data/lego_final.csv\")\n",
    "# #we need to normalize the features using mean normalization\n",
    "# df = (df - df.mean())/df.std()\n",
    "# dfa = df.iloc[:,1]\n",
    "# df = df.drop('list_price', 1)\n",
    "# ones = np.ones([df.shape[0],1])\n",
    "# df = np.concatenate((ones,df),axis=1)\n",
    "# dfa=dfa.values\n",
    "# # df1=dfa[:,1]\n",
    "# theta = np.zeros([1,10])\n",
    "# theta.shape\n",
    "# alpha = 0.01\n",
    "# iters = 1000\n",
    "# g,cost = gradientDescent(df,df1,theta,iters,alpha)\n",
    "# print(g)\n",
    "\n",
    "# finalCost = computeCost(df,df1,g)\n",
    "# print(finalCost)"
   ]
  }
 ],
 "metadata": {
  "kernelspec": {
   "display_name": "Python 3",
   "language": "python",
   "name": "python3"
  },
  "language_info": {
   "codemirror_mode": {
    "name": "ipython",
    "version": 3
   },
   "file_extension": ".py",
   "mimetype": "text/x-python",
   "name": "python",
   "nbconvert_exporter": "python",
   "pygments_lexer": "ipython3",
   "version": "3.7.0"
  }
 },
 "nbformat": 4,
 "nbformat_minor": 2
}
